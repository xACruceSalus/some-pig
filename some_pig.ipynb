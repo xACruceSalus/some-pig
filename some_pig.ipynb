{
 "metadata": {
  "name": "",
  "signature": "sha256:29800ab04f0756c778f5ea64089670c104e24497395bb3cf9c00216489bd4fc9"
 },
 "nbformat": 3,
 "nbformat_minor": 0,
 "worksheets": [
  {
   "cells": [
    {
     "cell_type": "code",
     "collapsed": false,
     "input": [
      "import random\n",
      "import matplotlib.pyplot as ply\n",
      "import statistics as st\n",
      "\n",
      "\n",
      "class Player:\n",
      "    \"\"\"\n",
      "    Contains the score\n",
      "    Contains the count of rolls\n",
      "    Decides to to roll or hold\n",
      "    Perform function of holding\n",
      "    \"\"\"\n",
      "\n",
      "    def __init__(self):\n",
      "        self.turn_score = 0\n",
      "        self.turn_count = 0\n",
      "        self.total_score = 0\n",
      "        self.roll_chance = .3\n",
      "\n",
      "    def user_choice(self, roll_count=0):\n",
      "\n",
      "        if roll_count == 0:\n",
      "            return 'roll'\n",
      "\n",
      "        else:\n",
      "            if random.random() < self.roll_chance:\n",
      "                return 'roll'\n",
      "            else:\n",
      "                return 'hold'\n",
      "\n",
      "    def roll_dice(self, dice_sides = 6):\n",
      "        return random.randint(1, dice_sides)\n",
      "\n",
      "    def reset_player(self, player):\n",
      "        return player.__init__()\n",
      "\n",
      "\n",
      "class Simulation:\n",
      "    \"\"\"\n",
      "    Accounts for a 1 being rolled\n",
      "    runs player's options\n",
      "    end after 7 rounds\n",
      "    shows count\n",
      "    keeps track of results\n",
      "    \"\"\"\n",
      "\n",
      "    def __init__(self, action_or_roll = []):\n",
      "        self.action_or_roll = []\n",
      "\n",
      "    def in_turn_scoring(self, roll, player):\n",
      "        if roll == 1:\n",
      "            return 'no points'\n",
      "        else:\n",
      "            player.turn_score += roll\n",
      "\n",
      "    def in_turn_gameplay(self, player):\n",
      "\n",
      "        player.turn_score = 0\n",
      "        roll_count = 0\n",
      "\n",
      "        while True:\n",
      "            user_input = player.user_choice(roll_count)\n",
      "\n",
      "            if user_input == 'hold':\n",
      "                self.action_or_roll.append(user_input)\n",
      "                break\n",
      "            else:\n",
      "                dice_roll = player.roll_dice()\n",
      "                self.action_or_roll.append(dice_roll)\n",
      "\n",
      "                if self.in_turn_scoring(dice_roll, player) == 'no points':\n",
      "                    player.turn_score = 0\n",
      "                    break\n",
      "                roll_count += 1\n",
      "\n",
      "        player.total_score += player.turn_score\n",
      "        return self.action_or_roll\n",
      "\n",
      "\n",
      "    def gameplay(self, player):\n",
      "        player.reset_player(player)\n",
      "\n",
      "        while player.turn_count < 7:\n",
      "            self.in_turn_gameplay(player)\n",
      "            player.turn_count += 1\n",
      "\n",
      "        return player.total_score\n",
      "\n",
      "\n",
      "class RiskyPlayer(Player):\n",
      "\n",
      "    def __init__(self):\n",
      "        self.turn_score = 0\n",
      "        self.turn_count = 0\n",
      "        self.total_score = 0\n",
      "        self.roll_chance = .9\n",
      "\n",
      "class MidRiskPlayer(Player):\n",
      "\n",
      "    def __init__(self):\n",
      "        self.turn_score = 0\n",
      "        self.turn_count = 0\n",
      "        self.total_score = 0\n",
      "        self.roll_chance = .6\n",
      "\n",
      "class MinimumTwenty(Player):\n",
      "\n",
      "    def user_choice(self, roll_count=0):\n",
      "        if roll_count == 0:\n",
      "            return 'roll'\n",
      "        else:\n",
      "            if self.turn_score < 19:\n",
      "                return 'roll'\n",
      "            else:\n",
      "                return 'hold'\n",
      "\n",
      "\n",
      "def multiple_runs(player, num = 1000):\n",
      "    return [Simulation().gameplay(player) for _ in range(num)]"
     ],
     "language": "python",
     "metadata": {},
     "outputs": [],
     "prompt_number": 100
    },
    {
     "cell_type": "code",
     "collapsed": false,
     "input": [
      "standard_roll_player = Player()\n",
      "standard_roll_sim = Simulation()\n",
      "print('standard ', standard_roll_sim.gameplay(standard_roll_player))\n",
      "\n",
      "mid_roll_player = MidRiskPlayer()\n",
      "standard_roll_sim = Simulation()\n",
      "print('Mid Risk ', standard_roll_sim.gameplay(mid_roll_player))\n",
      "\n",
      "risky_player = RiskyPlayer()\n",
      "standard_roll_sim = Simulation()\n",
      "print('risky ', standard_roll_sim.gameplay(risky_player))"
     ],
     "language": "python",
     "metadata": {},
     "outputs": [
      {
       "output_type": "stream",
       "stream": "stdout",
       "text": [
        "standard  27\n",
        "Mid Risk  42\n",
        "risky  0\n"
       ]
      }
     ],
     "prompt_number": 96
    },
    {
     "cell_type": "code",
     "collapsed": false,
     "input": [
      "standard_list = multiple_runs(standard_roll_player, num=10000)\n",
      "mid_list = multiple_runs(mid_roll_player, num=10000)\n",
      "risky_list = multiple_runs(risky_player, num=10000)\n",
      "\n",
      "strd_mean = st.mean(standard_list)\n",
      "mid_mean = st.mean(mid_list)\n",
      "risky_mean = st.mean(risky_list)\n",
      "\n",
      "strd_dev = st.pstdev(standard_list)\n",
      "mid_dev = st.pstdev(mid_list)\n",
      "risky_dev = st.pstdev(risky_list)\n",
      "\n",
      "print('standard ', strd_mean, strd_dev)\n",
      "print('middle ', mid_mean, mid_dev)\n",
      "print('risky ', risky_mean, risky_dev)"
     ],
     "language": "python",
     "metadata": {},
     "outputs": [
      {
       "output_type": "stream",
       "stream": "stdout",
       "text": [
        "standard  28.9678 9.47386738138127\n",
        "middle  37.3702 16.315390033952607\n",
        "risky  37.2681 29.24368346139043\n"
       ]
      }
     ],
     "prompt_number": 97
    },
    {
     "cell_type": "code",
     "collapsed": false,
     "input": [
      "nineteen_player = MinimumTwenty()\n",
      "\n",
      "nineteen_list = multiple_runs(nineteen_player, num=100000)\n",
      "nineteen_mean = st.mean(nineteen_list)\n",
      "nineteen_dev = st.pstdev(nineteen_list)\n",
      "\n",
      "\n",
      "print('nineteen ', nineteen_mean, nineteen_dev)"
     ],
     "language": "python",
     "metadata": {},
     "outputs": [
      {
       "output_type": "stream",
       "stream": "stdout",
       "text": [
        "nineteen  56.85432 26.760708461055362\n"
       ]
      }
     ],
     "prompt_number": 103
    },
    {
     "cell_type": "code",
     "collapsed": false,
     "input": [
      "ply.boxplot([standard_list, mid_list, risky_list, nineteen_list])\n",
      "ply.xticks(range(1, 5), [\"30%\", \"60%\", \"90%\", \"19 per turn\"])\n",
      "ply.show()"
     ],
     "language": "python",
     "metadata": {},
     "outputs": [
      {
       "metadata": {},
       "output_type": "display_data",
       "png": "[encoded data removed]",
       "text": [
        "<matplotlib.figure.Figure at 0x11142ee48>"
       ]
      }
     ],
     "prompt_number": 105
    },
    {
     "cell_type": "markdown",
     "metadata": {},
     "source": [
      "All of my strategies followed a central hypothesis - the amount a user rolled vs held impacted their overall chance of winning. So, the first strategy said that 30% of the time, we'll roll vs hold. The second said 60% of the time we'll roll instead of hold. The last said we'll roll 90% of the time and hold just 10% of the time.\n",
      "\n",
      "The mean for all 3 strategies over 100,000 rolls was relatively varied.\n",
      "30% = 28.9\n",
      "60% = 37.6\n",
      "90% = 37.8\n",
      "\n",
      "As expected, it is better to roll than hold the majority of the time. Surprisingly though, it's best to roll 9 of 10 times. That I didn't expect. If you look at the boxplot though, you'll see that the results are all over the place. There are a lot of outliers, and as expected, the standard deviation is much higher than the others at 29.85.\n",
      "\n",
      "After this was completed, I added a 4th strategy. This strategy only looked at how many points the user had each turn before deciding whether or not to roll or hold. If the user has less than 19 points, then they will always roll. Once they hit >19, they must hold. This performed substantially better than the other 2 groups with a mean of 56.8."
     ]
    },
    {
     "cell_type": "code",
     "collapsed": false,
     "input": [],
     "language": "python",
     "metadata": {},
     "outputs": [],
     "prompt_number": 109
    },
    {
     "cell_type": "code",
     "collapsed": false,
     "input": [],
     "language": "python",
     "metadata": {},
     "outputs": []
    }
   ],
   "metadata": {}
  }
 ]
}